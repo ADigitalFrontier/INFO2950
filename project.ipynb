{
 "cells": [
  {
   "cell_type": "markdown",
   "metadata": {
    "id": "rR9iD5df6_Zg"
   },
   "source": [
    "# Data Science Project"
   ]
  },
  {
   "cell_type": "markdown",
   "metadata": {
    "id": "2x6Cqjnl6_Zo",
    "narrative": true
   },
   "source": [
    "Todo"
   ]
  },
  {
   "cell_type": "code",
   "execution_count": 1,
   "metadata": {
    "colab": {
     "base_uri": "https://localhost:8080/"
    },
    "executionInfo": {
     "elapsed": 692,
     "status": "ok",
     "timestamp": 1615946565988,
     "user": {
      "displayName": "Lindsey Luo",
      "photoUrl": "https://lh3.googleusercontent.com/a-/AOh14GgRjQBpJrrZFURUEE9UC3NfELPuo2tgNaUBSaV1Xg=s64",
      "userId": "16662209247777130638"
     },
     "user_tz": 240
    },
    "id": "wC8tlpUb6_Zp",
    "narrative": true,
    "outputId": "5c899470-4e5b-4dd5-859e-4cb0d398bc77"
   },
   "outputs": [
    {
     "ename": "SyntaxError",
     "evalue": "invalid syntax. Perhaps you forgot a comma? (Temp/ipykernel_10320/4137750175.py, line 1)",
     "output_type": "error",
     "traceback": [
      "\u001b[1;36m  File \u001b[1;32m\"C:\\Users\\abot1\\AppData\\Local\\Temp/ipykernel_10320/4137750175.py\"\u001b[1;36m, line \u001b[1;32m1\u001b[0m\n\u001b[1;33m    some code here\u001b[0m\n\u001b[1;37m         ^\u001b[0m\n\u001b[1;31mSyntaxError\u001b[0m\u001b[1;31m:\u001b[0m invalid syntax. Perhaps you forgot a comma?\n"
     ]
    }
   ],
   "source": [
    "some code here"
   ]
  }
 ],
 "metadata": {
  "colab": {
   "name": "hw3soln.ipynb",
   "provenance": []
  },
  "kernelspec": {
   "display_name": "Python 3 (ipykernel)",
   "language": "python",
   "name": "python3"
  },
  "language_info": {
   "codemirror_mode": {
    "name": "ipython",
    "version": 3
   },
   "file_extension": ".py",
   "mimetype": "text/x-python",
   "name": "python",
   "nbconvert_exporter": "python",
   "pygments_lexer": "ipython3",
   "version": "3.10.0"
  }
 },
 "nbformat": 4,
 "nbformat_minor": 4
}
