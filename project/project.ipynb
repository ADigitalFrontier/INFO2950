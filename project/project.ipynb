{
 "cells": [
  {
   "cell_type": "markdown",
   "metadata": {
    "id": "rR9iD5df6_Zg"
   },
   "source": [
    "# Data Science Project"
   ]
  },
  {
   "cell_type": "markdown",
   "metadata": {
    "id": "2x6Cqjnl6_Zo",
    "narrative": true
   },
   "source": [
    "<h3>Research Question</h3>"
   ]
  },
  {
   "cell_type": "markdown",
   "metadata": {},
   "source": [
    "<h3>Data Collection & Cleaning</h3>"
   ]
  },
  {
   "cell_type": "code",
   "execution_count": 55,
   "metadata": {},
   "outputs": [],
   "source": [
    "# Setup\n",
    "\n",
    "import matplotlib.pyplot as plt\n",
    "import datetime\n",
    "import seaborn as sns\n",
    "import numpy as np\n",
    "import pandas as pd\n",
    "import re"
   ]
  },
  {
   "cell_type": "code",
   "execution_count": 82,
   "metadata": {},
   "outputs": [
    {
     "data": {
      "text/plain": [
       "Text(0, 0.5, 'Fatalities')"
      ]
     },
     "execution_count": 82,
     "metadata": {},
     "output_type": "execute_result"
    },
    {
     "data": {
      "image/png": "[encoded data removed]",
      "text/plain": [
       "<Figure size 432x288 with 1 Axes>"
      ]
     },
     "metadata": {
      "needs_background": "light"
     },
     "output_type": "display_data"
    }
   ],
   "source": [
    "# CSV of US mass shootings from 1982 to 2017\n",
    "shootings = pd.read_csv(\"us_shootings_1982-2017.csv\")\n",
    "\n",
    "shootings.columns = shootings.columns.str.strip().str.lower().str.replace(' ', '_')\n",
    "\n",
    "def num_only(val):\n",
    "    # print(val)\n",
    "    return re.findall(r'[0-9]+', val)[0]\n",
    "\n",
    "def clean_gender(val):\n",
    "    if val == 'M':\n",
    "        return 'M'\n",
    "    elif val == \"Female\":\n",
    "        return 'F'\n",
    "    elif val == 'Male':\n",
    "        return 'M'\n",
    "    elif val == 'Male & Female':\n",
    "        return 'Both'\n",
    "\n",
    "shootings[\"fatalities\"] = pd.to_numeric(shootings[\"fatalities\"].apply(num_only))\n",
    "shootings[\"injured\"] = pd.to_numeric(shootings[\"injured\"].apply(num_only))\n",
    "shootings[\"race\"] = shootings[\"race\"].str.strip().str.lower()\n",
    "shootings[\"gender\"] = shootings[\"gender\"].apply(clean_gender)\n",
    "\n",
    "plot = sns.scatterplot(data=shootings, x=\"date\", y=\"fatalities\", hue=\"gender\")\n",
    "plot.set(xticklabels=[])\n",
    "plot.set_xlabel(\"Date\")\n",
    "plot.set_ylabel(\"Fatalities\")"
   ]
  },
  {
   "cell_type": "markdown",
   "metadata": {},
   "source": [
    "<h3>Data Description</h3>"
   ]
  },
  {
   "cell_type": "markdown",
   "metadata": {},
   "source": [
    "<h3>Data Limitations</h3>"
   ]
  },
  {
   "cell_type": "markdown",
   "metadata": {},
   "source": [
    "<h3>Exploratory Data Analysis</h3>"
   ]
  },
  {
   "cell_type": "markdown",
   "metadata": {},
   "source": [
    "<h3>Questions for Reviewers</h3>"
   ]
  },
  {
   "cell_type": "markdown",
   "metadata": {},
   "source": [
    "For what purpose was the dataset created?\n",
    "Who created the dataset?\n",
    "Who funded the creation of the dataset?\n",
    "Any other comments"
   ]
  }
 ],
 "metadata": {
  "colab": {
   "name": "hw3soln.ipynb",
   "provenance": []
  },
  "kernelspec": {
   "display_name": "Python 3",
   "language": "python",
   "name": "python3"
  },
  "language_info": {
   "codemirror_mode": {
    "name": "ipython",
    "version": 3
   },
   "file_extension": ".py",
   "mimetype": "text/x-python",
   "name": "python",
   "nbconvert_exporter": "python",
   "pygments_lexer": "ipython3",
   "version": "3.8.8"
  }
 },
 "nbformat": 4,
 "nbformat_minor": 4
}
