{
 "cells": [
  {
   "cell_type": "markdown",
   "metadata": {},
   "source": [
    "<h1>Phase 3</h1>\n",
    "<h3>Analysis 1:</h3><br>\n",
    "<strong>Question:</strong><br>\n",
    "Do the gun control policies of states have a statistically significant correlation on the malicious (perpetrator on victim) gun-crime rate per capita of counties within that state?<br><br>\n",
    "<strong>Method:</strong><br>\n",
    "We intend to determine this through a multilinear regression model involving the use of predictor (dummy) variables such as: whether or not a state has magazine limit restrictions, waiting periods, cosmetic/accessory bans, and ammunition liscencing. We can achieve this by independently researching outstanding states to create a dictionary summarizing their specific policies. Furthermore, We can add up the presence of these policies to compare a sample value of enacted gun control policies to evaluate if the overall presence of more gun control policies may correlate with a a change in gun crimes.<br>\n",
    "\n",
    "<h3>Analysis 2:</h3><br>\n",
    "<strong>Question:</strong><br>\n",
    "Do the gun control policies of states impact per-capita suicides?<br><br>\n",
    "Examining states that have enacted specific policies regarding gun control, how might their policies have impact gun-suicide rates compared to before and how do they compare to the gun related suicide rates in other states that do not have such policies?<br><br>\n",
    "<strong>Method:</strong><br>\n",
    "This will be examined using a multilinear regression with dummy variables representing specific policies across multiple states. In some cases if there is a rise or fall in gun-suicides interrupting an apparantly consistent trend, we may track our results using a logistic regression model.<br>"
   ]
  },
  {
   "cell_type": "code",
   "execution_count": null,
   "metadata": {},
   "outputs": [],
   "source": []
  },
  {
   "cell_type": "markdown",
   "metadata": {},
   "source": [
    "<h1>Phase 4</h1><br>"
   ]
  },
  {
   "cell_type": "code",
   "execution_count": null,
   "metadata": {},
   "outputs": [],
   "source": []
  }
 ],
 "metadata": {},
 "nbformat": 4,
 "nbformat_minor": 1
}
