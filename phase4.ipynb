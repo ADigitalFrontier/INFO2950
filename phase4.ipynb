{
 "cells": [
  {
   "cell_type": "markdown",
   "metadata": {},
   "source": [
    "<h1><center>INFO 2950 Project Phase 4</center></h1>"
   ]
  },
  {
   "cell_type": "markdown",
   "metadata": {},
   "source": [
    "<h1>Phase 3 Reference</h1>\n",
    "<h3>Analysis 1:</h3><br>\n",
    "<strong>Question:</strong><br>\n",
    "Do the gun control policies of states have a statistically significant correlation on the malicious (perpetrator on victim) gun-crime rate per capita of counties within that state?<br><br>\n",
    "<strong>Method:</strong><br>\n",
    "We intend to determine this through a multilinear regression model involving the use of predictor (dummy) variables such as: whether or not a state has magazine limit restrictions, waiting periods, cosmetic/accessory bans, and ammunition liscencing. We can achieve this by independently researching outstanding states to create a dictionary summarizing their specific policies. Furthermore, We can add up the presence of these policies to compare a sample value of enacted gun control policies to evaluate if the overall presence of more gun control policies may correlate with a a change in gun crimes.<br>\n",
    "\n",
    "<h3>Analysis 2:</h3><br>\n",
    "<strong>Question:</strong><br>\n",
    "Do the gun control policies of states impact per-capita suicides?<br><br>\n",
    "Examining states that have enacted specific policies regarding gun control, how might their policies have impact gun-suicide rates compared to before and how do they compare to the gun related suicide rates in other states that do not have such policies?<br><br>\n",
    "<strong>Method:</strong><br>\n",
    "This will be examined using a multilinear regression with dummy variables representing specific policies across multiple states. In some cases if there is a rise or fall in gun-suicides interrupting an apparantly consistent trend, we may track our results using a logistic regression model.<br>"
   ]
  },
  {
   "cell_type": "markdown",
   "metadata": {},
   "source": [
    "<h1>Phase 3 Feedback</h1>\n",
    "<h3>Feedback 1:</h3><br>\n",
    "1. The simplest way is to run a correlation analysis and check for variables that have abnormal Variance Inflation Factors (VIF). This should help you identify and eliminate multicollinearity.\n",
    "\n",
    "2. Generally speaking, when you choose to use a multilinear model, you should always check if the three major assumptions of MLR are met: 1) There must be a linear relationship between the outcome variable and the independent variables. 2) the residuals are normally distributed. 3) No Multicollinearity.\n",
    "\n",
    "In terms of choosing the best number of features to include, you can resort to common feature selection methods such as stepwise regression, forward selection, and backward elimination.\n",
    "<br>\n",
    "<h3>Feedback 2:</h3><br>\n",
    "Questions:\n",
    "1) I think that one thing that you could potentially try to do is if there are multiple variables that you are using with different analysis and each variables does not have much individual distinction to what you are analyzing, you could take all of these variables and make them into one single \"score\" variable that combines all of the different factors but would be one variable which would make it cleaner and more efficient.\n",
    "\n",
    "2) I would say that one strategy that could be used is what I mentioned in the answer above which helps to combine different features into a cleaner and more efficient method"
   ]
  },
  {
   "cell_type": "markdown",
   "metadata": {},
   "source": [
    "<h1>TODOs</h1><br>\n",
    "<h3>General TODOs</h3><br>\n",
    "Determine exact deliverables and add them to the outline\n",
    "<h3>Analysis 1:</h3>\n",
    "<ol>\n",
    "    <li>Make more TODOs</li>\n",
    "    <li>Run a correlation analysis to determine what variables have abnormal VIF as mentioned in feedback 1</li>\n",
    "    <li>Verify that the 3 major assumptions of MLR are met. What does \"the residuals area normally distributed mean?</li>\n",
    "    <li>Decide among stepwise regression, forward selection, and backward elimination for a feature selection method</li>\n",
    "    <li>Come up with distinct predictor variables for Analysis 1. Exactly what variables will go into this model? What non-gun control variables should be included?</li>\n",
    "    <li>Perhaps combine gun-control measures into a single gun-control score as mentioned in feedback 1. My initial feeling is that it might be better to leave certain variables separate while combining some others into a score, but we will see I guess.</li>\n",
    "<li>More stuff here</li>\n",
    "</ol>\n",
    "<h3>Analysis 2:</h3>\n",
    "<ol>\n",
    "    <li>Make more TODOs</li>\n",
    "    <li>Same steps that apply to MLR as for analysis 1</li>\n",
    "    <li>More stuff here</li>\n",
    "</ol>"
   ]
  },
  {
   "cell_type": "markdown",
   "metadata": {},
   "source": [
    "<h1>Phase 4 Code</h1><br>"
   ]
  },
  {
   "cell_type": "code",
   "execution_count": 18,
   "metadata": {},
   "outputs": [],
   "source": [
    "# Imports\n",
    "\n",
    "import numpy as np\n",
    "import pandas as pd\n",
    "import seaborn as sns\n",
    "from sklearn import linear_model\n",
    "from matplotlib import pyplot as plt\n",
    "\n",
    "# Setup & load data\n",
    "\n",
    "# -------------------------------------------------------------------------------------------\n",
    "\n",
    "# 's2_clean' from past phases changed to 'shootings_modified' just because the name makes more sense\n",
    "\n",
    "    # shootings = pd.read_csv(\"shootings_modified.csv\")\n",
    "    \n",
    "# -------------------------------------------------------------------------------------------\n",
    "\n",
    "# I don't yet have the state gun control data -- we could gather it, perhaps from the below site\n",
    "# https://www.findlaw.com/state/criminal-laws/gun-control.html\n",
    "\n",
    "# Manually gathering this data has the benefit of our own judgement when it comes to what variables we use\n",
    "# and how they are measured\n",
    "\n",
    "    # gun_control = pd.read_csv(\"state_gun_control.csv\")\n",
    "    \n",
    "# -------------------------------------------------------------------------------------------\n",
    "\n",
    "# Load relevant census data to be combined as necessary in the next step\n",
    "\n",
    "    # census_data = pd.read_csv(\"some_census_data.csv\")\n",
    "    \n",
    "# -------------------------------------------------------------------------------------------\n",
    "\n",
    "# Combine & clean data as necessary\n",
    "\n",
    "\n",
    "\n",
    "# Modify data for use with analysis 1\n",
    "\n",
    "\n",
    "# Analysis 1\n",
    "\n",
    "\n",
    "# Process results of analysis 1\n",
    "\n",
    "    # Some code to quantify our analysis 1 findings\n",
    "\n",
    "# Modify data for use with analysis 2\n",
    "\n",
    "\n",
    "# Analysis 2\n",
    "\n",
    "\n",
    "# Process results of analysis 2\n",
    "\n",
    "    # Some code to quantify our analysis 2 findings\n",
    "\n"
   ]
  },
  {
   "cell_type": "markdown",
   "metadata": {},
   "source": [
    "<h1>Analysis 1 Interpretation</h1>\n",
    "What our findings indicate:\n",
    "\n",
    "<h1>Analysis 2 Interpretation</h1>\n",
    "What our findings indicate:"
   ]
  }
 ],
 "metadata": {
  "kernelspec": {
   "display_name": "Python 3",
   "language": "python",
   "name": "python3"
  },
  "language_info": {
   "codemirror_mode": {
    "name": "ipython",
    "version": 3
   },
   "file_extension": ".py",
   "mimetype": "text/x-python",
   "name": "python",
   "nbconvert_exporter": "python",
   "pygments_lexer": "ipython3",
   "version": "3.8.8"
  }
 },
 "nbformat": 4,
 "nbformat_minor": 1
}
